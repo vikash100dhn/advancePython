{
  "nbformat": 4,
  "nbformat_minor": 0,
  "metadata": {
    "colab": {
      "name": "Advance Python- Day3.ipynb",
      "provenance": [],
      "collapsed_sections": []
    },
    "kernelspec": {
      "name": "python3",
      "display_name": "Python 3"
    }
  },
  "cells": [
    {
      "cell_type": "markdown",
      "metadata": {
        "id": "M3Oz0SCyfHCf",
        "colab_type": "text"
      },
      "source": [
        "#Decorators\n",
        "\n",
        "- It is used to add functionality to an existing code.\n",
        "-  This is called a metaprogamming as a part of the program tries to modify another part of the program"
      ]
    },
    {
      "cell_type": "code",
      "metadata": {
        "id": "f_GbTrttfAxg",
        "colab_type": "code",
        "outputId": "1833b73e-5b8b-4793-9727-6a87b9adce6f",
        "colab": {
          "base_uri": "https://localhost:8080/",
          "height": 72
        }
      },
      "source": [
        "def make_pretty(func):\n",
        "  def inner_function():\n",
        "    print(\"I got decorated\")\n",
        "    func()\n",
        "  return inner_function\n",
        "\n",
        "def ordinary():\n",
        "  print(\"I am ordinary\")\n",
        "\n",
        "ordinary()\n",
        "pretty = make_pretty(ordinary)\n",
        "pretty()\n"
      ],
      "execution_count": 0,
      "outputs": [
        {
          "output_type": "stream",
          "text": [
            "I am ordinary\n",
            "I got decorated\n",
            "I am ordinary\n"
          ],
          "name": "stdout"
        }
      ]
    },
    {
      "cell_type": "markdown",
      "metadata": {
        "id": "JpJY7CMqhxlq",
        "colab_type": "text"
      },
      "source": [
        "Another form of decorator"
      ]
    },
    {
      "cell_type": "code",
      "metadata": {
        "id": "I2ba5yaWh3AS",
        "colab_type": "code",
        "outputId": "c3f73ad8-1726-46f6-e795-f6198c90ff4e",
        "colab": {
          "base_uri": "https://localhost:8080/",
          "height": 54
        }
      },
      "source": [
        "def make_pretty(func):\n",
        "  def inner():\n",
        "    print(\"I got decorated\")\n",
        "    func()\n",
        "  return inner\n",
        "\n",
        "@make_pretty\n",
        "def ordinary():\n",
        "  print(\"I am ordinary\")\n",
        "\n",
        "ordinary()"
      ],
      "execution_count": 0,
      "outputs": [
        {
          "output_type": "stream",
          "text": [
            "I got decorated\n",
            "I am ordinary\n"
          ],
          "name": "stdout"
        }
      ]
    },
    {
      "cell_type": "markdown",
      "metadata": {
        "id": "Ft8R7REvjfj4",
        "colab_type": "text"
      },
      "source": [
        "Another example:"
      ]
    },
    {
      "cell_type": "code",
      "metadata": {
        "id": "gznB-dbAjpfG",
        "colab_type": "code",
        "outputId": "d48bdd45-7ac7-4cce-d0d3-11b0d0e2a856",
        "colab": {
          "base_uri": "https://localhost:8080/",
          "height": 54
        }
      },
      "source": [
        "def smart_divide(func):\n",
        "  def inner(a,b):\n",
        "    print(\"I am going to divide\", a, \"and\", b)\n",
        "    if b==0:\n",
        "      print(\"Whoops! cannot divide\")\n",
        "      return\n",
        "    else:\n",
        "      print(func(a,b))\n",
        "  return inner\n",
        "\n",
        "@smart_divide\n",
        "def divide(a,b):\n",
        "  return a/b\n",
        "\n",
        "divide(4,2)"
      ],
      "execution_count": 0,
      "outputs": [
        {
          "output_type": "stream",
          "text": [
            "I am going to divide 4 and 2\n",
            "2.0\n"
          ],
          "name": "stdout"
        }
      ]
    },
    {
      "cell_type": "markdown",
      "metadata": {
        "id": "k9sA4tj1k_VM",
        "colab_type": "text"
      },
      "source": [
        "Assignment:\n",
        "Write two decorators to print the following:\n",
        "\n",
        "*******************\n",
        "%%%%%%%%%%%%%%%%%%%\n",
        "Python\n",
        "%%%%%%%%%%%%%%%%%%%\n",
        "*******************"
      ]
    },
    {
      "cell_type": "code",
      "metadata": {
        "id": "EL8lS6_Dj029",
        "colab_type": "code",
        "outputId": "4d4a5ae3-f7e3-4398-e266-2950339df5a9",
        "colab": {
          "base_uri": "https://localhost:8080/",
          "height": 109
        }
      },
      "source": [
        "def star_decorator(func):\n",
        "  def inner():\n",
        "    print(\"*******************\")\n",
        "    print(\"%%%%%%%%%%%%%%%%%%%\")\n",
        "    func()\n",
        "  return inner\n",
        "def percentage_decorator(func):\n",
        "  def inner():\n",
        "    func()\n",
        "    print(\"%%%%%%%%%%%%%%%%%%%\")\n",
        "    print(\"*******************\")\n",
        "  return inner\n",
        "\n",
        "\n",
        "@star_decorator\n",
        "@percentage_decorator\n",
        "def printer():\n",
        "  print(\"Python\")\n",
        "\n",
        "printer()"
      ],
      "execution_count": 0,
      "outputs": [
        {
          "output_type": "stream",
          "text": [
            "*******************\n",
            "%%%%%%%%%%%%%%%%%%%\n",
            "Python\n",
            "%%%%%%%%%%%%%%%%%%%\n",
            "*******************\n"
          ],
          "name": "stdout"
        }
      ]
    },
    {
      "cell_type": "code",
      "metadata": {
        "id": "4GqkA_HwnbCo",
        "colab_type": "code",
        "outputId": "117a7865-f551-4cc2-d47f-b2922af97af4",
        "colab": {
          "base_uri": "https://localhost:8080/",
          "height": 109
        }
      },
      "source": [
        "def star(func):\n",
        "  def inner(*args, **kwargs):\n",
        "    print(\"*\" *30)\n",
        "    func(*args, **kwargs)\n",
        "    print(\"*\" *30)\n",
        "  return inner\n",
        "\n",
        "def percent(func):\n",
        "  def inner(*args, **kwargs):\n",
        "    print(\"%\" *30)\n",
        "    func(*args, **kwargs)\n",
        "    print(\"%\" *30)\n",
        "  return inner\n",
        "\n",
        "@star\n",
        "@percent\n",
        "def printer(msg):\n",
        "  print(msg)\n",
        "\n",
        "\n",
        "printer(\"Python\")"
      ],
      "execution_count": 0,
      "outputs": [
        {
          "output_type": "stream",
          "text": [
            "******************************\n",
            "%%%%%%%%%%%%%%%%%%%%%%%%%%%%%%\n",
            "Python\n",
            "%%%%%%%%%%%%%%%%%%%%%%%%%%%%%%\n",
            "******************************\n"
          ],
          "name": "stdout"
        }
      ]
    },
    {
      "cell_type": "code",
      "metadata": {
        "id": "mIoOjBuAocMc",
        "colab_type": "code",
        "colab": {}
      },
      "source": [
        ""
      ],
      "execution_count": 0,
      "outputs": []
    },
    {
      "cell_type": "markdown",
      "metadata": {
        "id": "VvkBOREsphvP",
        "colab_type": "text"
      },
      "source": [
        "Write a python program to crate a list by concatenating a given list which range goes from 1 to n\n",
        "Sample list : ['p','q']\n",
        "n=5\n",
        "sample output: [p1,q1,p2,q2....]\n",
        "\n",
        "- function will accept list and numeric values\n",
        "- n should not be < 0 or > 10"
      ]
    },
    {
      "cell_type": "code",
      "metadata": {
        "id": "nANVCTqTqcxT",
        "colab_type": "code",
        "colab": {}
      },
      "source": [
        "def check(func):\n",
        "  def inner():\n",
        "    "
      ],
      "execution_count": 0,
      "outputs": []
    },
    {
      "cell_type": "markdown",
      "metadata": {
        "id": "Wm_yeTFCtTfA",
        "colab_type": "text"
      },
      "source": [
        "Create a temperature class and it has a property as temp variable\n",
        "by default temp is in celcius\n",
        "convert it to farenheit\n"
      ]
    },
    {
      "cell_type": "code",
      "metadata": {
        "id": "SSwi2uQ6tggy",
        "colab_type": "code",
        "outputId": "d3a87a82-9764-4c32-991a-b98345ba678d",
        "colab": {
          "base_uri": "https://localhost:8080/",
          "height": 435
        }
      },
      "source": [
        "class TemperatureConverter:\n",
        "\n",
        "  def __init__(self, temperature=0):\n",
        "    self.temperature = temperature\n",
        "\n",
        "  def to_fahrenheit(self):\n",
        "    return (self._temperature * 1.8) +32\n",
        "\n",
        "  def get_temperature(self):\n",
        "    print(\"Getting values\")\n",
        "    return self._temperature\n",
        "\n",
        "  def set_temperature(self, value):\n",
        "    if value < -273 :\n",
        "      raise ValueError(\"Temperature below -273 is not possible\")\n",
        "    print (\"setting values\")\n",
        "    self._temperature = value\n",
        "  \n",
        "  temperature = property(get_temperature, set_temperature)\n",
        "  \n",
        "obj = TemperatureConverter(100)\n",
        "print(obj.to_fahrenheit())\n",
        "obj = TemperatureConverter(-300)\n",
        "print(obj.to_fahrenheit())\n",
        "\n"
      ],
      "execution_count": 0,
      "outputs": [
        {
          "output_type": "stream",
          "text": [
            "setting values\n",
            "212.0\n"
          ],
          "name": "stdout"
        },
        {
          "output_type": "error",
          "ename": "ValueError",
          "evalue": "ignored",
          "traceback": [
            "\u001b[0;31m---------------------------------------------------------------------------\u001b[0m",
            "\u001b[0;31mValueError\u001b[0m                                Traceback (most recent call last)",
            "\u001b[0;32m<ipython-input-41-8ea05ae85e39>\u001b[0m in \u001b[0;36m<module>\u001b[0;34m()\u001b[0m\n\u001b[1;32m     21\u001b[0m \u001b[0mobj\u001b[0m \u001b[0;34m=\u001b[0m \u001b[0mTemperatureConverter\u001b[0m\u001b[0;34m(\u001b[0m\u001b[0;36m100\u001b[0m\u001b[0;34m)\u001b[0m\u001b[0;34m\u001b[0m\u001b[0;34m\u001b[0m\u001b[0m\n\u001b[1;32m     22\u001b[0m \u001b[0mprint\u001b[0m\u001b[0;34m(\u001b[0m\u001b[0mobj\u001b[0m\u001b[0;34m.\u001b[0m\u001b[0mto_fahrenheit\u001b[0m\u001b[0;34m(\u001b[0m\u001b[0;34m)\u001b[0m\u001b[0;34m)\u001b[0m\u001b[0;34m\u001b[0m\u001b[0;34m\u001b[0m\u001b[0m\n\u001b[0;32m---> 23\u001b[0;31m \u001b[0mobj\u001b[0m \u001b[0;34m=\u001b[0m \u001b[0mTemperatureConverter\u001b[0m\u001b[0;34m(\u001b[0m\u001b[0;34m-\u001b[0m\u001b[0;36m300\u001b[0m\u001b[0;34m)\u001b[0m\u001b[0;34m\u001b[0m\u001b[0;34m\u001b[0m\u001b[0m\n\u001b[0m\u001b[1;32m     24\u001b[0m \u001b[0mprint\u001b[0m\u001b[0;34m(\u001b[0m\u001b[0mobj\u001b[0m\u001b[0;34m.\u001b[0m\u001b[0mto_fahrenheit\u001b[0m\u001b[0;34m(\u001b[0m\u001b[0;34m)\u001b[0m\u001b[0;34m)\u001b[0m\u001b[0;34m\u001b[0m\u001b[0;34m\u001b[0m\u001b[0m\n\u001b[1;32m     25\u001b[0m \u001b[0;34m\u001b[0m\u001b[0m\n",
            "\u001b[0;32m<ipython-input-41-8ea05ae85e39>\u001b[0m in \u001b[0;36m__init__\u001b[0;34m(self, temperature)\u001b[0m\n\u001b[1;32m      2\u001b[0m \u001b[0;34m\u001b[0m\u001b[0m\n\u001b[1;32m      3\u001b[0m   \u001b[0;32mdef\u001b[0m \u001b[0m__init__\u001b[0m\u001b[0;34m(\u001b[0m\u001b[0mself\u001b[0m\u001b[0;34m,\u001b[0m \u001b[0mtemperature\u001b[0m\u001b[0;34m=\u001b[0m\u001b[0;36m0\u001b[0m\u001b[0;34m)\u001b[0m\u001b[0;34m:\u001b[0m\u001b[0;34m\u001b[0m\u001b[0;34m\u001b[0m\u001b[0m\n\u001b[0;32m----> 4\u001b[0;31m     \u001b[0mself\u001b[0m\u001b[0;34m.\u001b[0m\u001b[0mtemperature\u001b[0m \u001b[0;34m=\u001b[0m \u001b[0mtemperature\u001b[0m\u001b[0;34m\u001b[0m\u001b[0;34m\u001b[0m\u001b[0m\n\u001b[0m\u001b[1;32m      5\u001b[0m \u001b[0;34m\u001b[0m\u001b[0m\n\u001b[1;32m      6\u001b[0m   \u001b[0;32mdef\u001b[0m \u001b[0mto_fahrenheit\u001b[0m\u001b[0;34m(\u001b[0m\u001b[0mself\u001b[0m\u001b[0;34m)\u001b[0m\u001b[0;34m:\u001b[0m\u001b[0;34m\u001b[0m\u001b[0;34m\u001b[0m\u001b[0m\n",
            "\u001b[0;32m<ipython-input-41-8ea05ae85e39>\u001b[0m in \u001b[0;36mset_temperature\u001b[0;34m(self, value)\u001b[0m\n\u001b[1;32m     13\u001b[0m   \u001b[0;32mdef\u001b[0m \u001b[0mset_temperature\u001b[0m\u001b[0;34m(\u001b[0m\u001b[0mself\u001b[0m\u001b[0;34m,\u001b[0m \u001b[0mvalue\u001b[0m\u001b[0;34m)\u001b[0m\u001b[0;34m:\u001b[0m\u001b[0;34m\u001b[0m\u001b[0;34m\u001b[0m\u001b[0m\n\u001b[1;32m     14\u001b[0m     \u001b[0;32mif\u001b[0m \u001b[0mvalue\u001b[0m \u001b[0;34m<\u001b[0m \u001b[0;34m-\u001b[0m\u001b[0;36m273\u001b[0m \u001b[0;34m:\u001b[0m\u001b[0;34m\u001b[0m\u001b[0;34m\u001b[0m\u001b[0m\n\u001b[0;32m---> 15\u001b[0;31m       \u001b[0;32mraise\u001b[0m \u001b[0mValueError\u001b[0m\u001b[0;34m(\u001b[0m\u001b[0;34m\"Temperature below -273 is not possible\"\u001b[0m\u001b[0;34m)\u001b[0m\u001b[0;34m\u001b[0m\u001b[0;34m\u001b[0m\u001b[0m\n\u001b[0m\u001b[1;32m     16\u001b[0m     \u001b[0mprint\u001b[0m \u001b[0;34m(\u001b[0m\u001b[0;34m\"setting values\"\u001b[0m\u001b[0;34m)\u001b[0m\u001b[0;34m\u001b[0m\u001b[0;34m\u001b[0m\u001b[0m\n\u001b[1;32m     17\u001b[0m     \u001b[0mself\u001b[0m\u001b[0;34m.\u001b[0m\u001b[0m_temperature\u001b[0m \u001b[0;34m=\u001b[0m \u001b[0mvalue\u001b[0m\u001b[0;34m\u001b[0m\u001b[0;34m\u001b[0m\u001b[0m\n",
            "\u001b[0;31mValueError\u001b[0m: Temperature below -273 is not possible"
          ]
        }
      ]
    }
  ]
}
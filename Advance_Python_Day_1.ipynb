{
  "nbformat": 4,
  "nbformat_minor": 0,
  "metadata": {
    "colab": {
      "name": "Advance Python- Day 1.ipynb",
      "provenance": [],
      "collapsed_sections": []
    },
    "kernelspec": {
      "name": "python3",
      "display_name": "Python 3"
    }
  },
  "cells": [
    {
      "cell_type": "markdown",
      "metadata": {
        "id": "NE3thpR_NCDF",
        "colab_type": "text"
      },
      "source": [
        "Ternary Operator :"
      ]
    },
    {
      "cell_type": "code",
      "metadata": {
        "id": "wuTvgIB1M8s4",
        "colab_type": "code",
        "outputId": "e5d1e200-4b56-4915-aa56-68f992067569",
        "colab": {
          "base_uri": "https://localhost:8080/",
          "height": 34
        }
      },
      "source": [
        "a, b = 10, 20\n",
        "\n",
        "min = a if a < b else b\n",
        "\n",
        "print(min)"
      ],
      "execution_count": 0,
      "outputs": [
        {
          "output_type": "stream",
          "text": [
            "10\n"
          ],
          "name": "stdout"
        }
      ]
    },
    {
      "cell_type": "markdown",
      "metadata": {
        "id": "zgCZcS9KNFqv",
        "colab_type": "text"
      },
      "source": [
        "Ternary operator using tuples:"
      ]
    },
    {
      "cell_type": "code",
      "metadata": {
        "id": "09Qd6pQXNBN-",
        "colab_type": "code",
        "outputId": "945a319e-b8ac-4e8d-d4f2-98474f79fa93",
        "colab": {
          "base_uri": "https://localhost:8080/",
          "height": 34
        }
      },
      "source": [
        "a,b = 10, 20\n",
        "\n",
        "print((a,b) [a < b])"
      ],
      "execution_count": 0,
      "outputs": [
        {
          "output_type": "stream",
          "text": [
            "20\n"
          ],
          "name": "stdout"
        }
      ]
    },
    {
      "cell_type": "code",
      "metadata": {
        "id": "jXWg10AIZ2wF",
        "colab_type": "code",
        "outputId": "3c9b7f0e-5286-49a3-d48d-9cd23867030e",
        "colab": {
          "base_uri": "https://localhost:8080/",
          "height": 34
        }
      },
      "source": [
        "a,b = 10, 20\n",
        "\n",
        "print((b,a) [a < b])"
      ],
      "execution_count": 0,
      "outputs": [
        {
          "output_type": "stream",
          "text": [
            "10\n"
          ],
          "name": "stdout"
        }
      ]
    },
    {
      "cell_type": "markdown",
      "metadata": {
        "id": "Z9Ip7nWHNZNd",
        "colab_type": "text"
      },
      "source": [
        "Exception Handling example:"
      ]
    },
    {
      "cell_type": "code",
      "metadata": {
        "id": "jg8HwwalQcSw",
        "colab_type": "code",
        "outputId": "e26b57e6-37fe-46ae-dc9b-fcc223f33f8a",
        "colab": {
          "base_uri": "https://localhost:8080/",
          "height": 102
        }
      },
      "source": [
        "a = int(input(\"first number:\"))\n",
        "b = int(input(\"Second number:\"))\n",
        "\n",
        "try:\n",
        "  c = a/b;\n",
        "  print(c);\n",
        "\n",
        "  lst =[1,2,3,4,5]\n",
        "  print(lst[10])\n",
        "\n",
        "except(ZeroDivisionError, IndexError):\n",
        "  print('error')\n",
        "except Exception:\n",
        "  print(\"error occured\")\n",
        "finally:\n",
        "  print(\"Finished\")"
      ],
      "execution_count": 0,
      "outputs": [
        {
          "output_type": "stream",
          "text": [
            "first number:1\n",
            "Second number:4\n",
            "0.25\n",
            "error\n",
            "Finished\n"
          ],
          "name": "stdout"
        }
      ]
    },
    {
      "cell_type": "markdown",
      "metadata": {
        "id": "znDAhTAZR9qQ",
        "colab_type": "text"
      },
      "source": [
        "Assert:\n",
        "\n",
        "An assertion in Python or a Python Asssert statement is ..\n",
        "\n",
        "```\n",
        "# This is formatted as code\n",
        "assert<conditon>\n",
        "assert<condition>, <error message>\n",
        "```\n",
        "\n"
      ]
    },
    {
      "cell_type": "code",
      "metadata": {
        "id": "KV4pHIVCR0wG",
        "colab_type": "code",
        "outputId": "4638ad50-ef3b-4952-cbc7-b78125d67635",
        "colab": {
          "base_uri": "https://localhost:8080/",
          "height": 333
        }
      },
      "source": [
        "def div(p,q):\n",
        "  assert q !=0\n",
        "  return p/q\n",
        "\n",
        "\n",
        "print(div(10,5))\n",
        "print(div(10,0))"
      ],
      "execution_count": 0,
      "outputs": [
        {
          "output_type": "stream",
          "text": [
            "2.0\n"
          ],
          "name": "stdout"
        },
        {
          "output_type": "error",
          "ename": "AssertionError",
          "evalue": "ignored",
          "traceback": [
            "\u001b[0;31m---------------------------------------------------------------------------\u001b[0m",
            "\u001b[0;31mAssertionError\u001b[0m                            Traceback (most recent call last)",
            "\u001b[0;32m<ipython-input-11-384393caadbb>\u001b[0m in \u001b[0;36m<module>\u001b[0;34m()\u001b[0m\n\u001b[1;32m      5\u001b[0m \u001b[0;34m\u001b[0m\u001b[0m\n\u001b[1;32m      6\u001b[0m \u001b[0mprint\u001b[0m\u001b[0;34m(\u001b[0m\u001b[0mdiv\u001b[0m\u001b[0;34m(\u001b[0m\u001b[0;36m10\u001b[0m\u001b[0;34m,\u001b[0m\u001b[0;36m5\u001b[0m\u001b[0;34m)\u001b[0m\u001b[0;34m)\u001b[0m\u001b[0;34m\u001b[0m\u001b[0;34m\u001b[0m\u001b[0m\n\u001b[0;32m----> 7\u001b[0;31m \u001b[0mprint\u001b[0m\u001b[0;34m(\u001b[0m\u001b[0mdiv\u001b[0m\u001b[0;34m(\u001b[0m\u001b[0;36m10\u001b[0m\u001b[0;34m,\u001b[0m\u001b[0;36m0\u001b[0m\u001b[0;34m)\u001b[0m\u001b[0;34m)\u001b[0m\u001b[0;34m\u001b[0m\u001b[0;34m\u001b[0m\u001b[0m\n\u001b[0m",
            "\u001b[0;32m<ipython-input-11-384393caadbb>\u001b[0m in \u001b[0;36mdiv\u001b[0;34m(p, q)\u001b[0m\n\u001b[1;32m      1\u001b[0m \u001b[0;32mdef\u001b[0m \u001b[0mdiv\u001b[0m\u001b[0;34m(\u001b[0m\u001b[0mp\u001b[0m\u001b[0;34m,\u001b[0m\u001b[0mq\u001b[0m\u001b[0;34m)\u001b[0m\u001b[0;34m:\u001b[0m\u001b[0;34m\u001b[0m\u001b[0;34m\u001b[0m\u001b[0m\n\u001b[0;32m----> 2\u001b[0;31m   \u001b[0;32massert\u001b[0m \u001b[0mq\u001b[0m \u001b[0;34m!=\u001b[0m\u001b[0;36m0\u001b[0m\u001b[0;34m\u001b[0m\u001b[0;34m\u001b[0m\u001b[0m\n\u001b[0m\u001b[1;32m      3\u001b[0m   \u001b[0;32mreturn\u001b[0m \u001b[0mp\u001b[0m\u001b[0;34m/\u001b[0m\u001b[0mq\u001b[0m\u001b[0;34m\u001b[0m\u001b[0;34m\u001b[0m\u001b[0m\n\u001b[1;32m      4\u001b[0m \u001b[0;34m\u001b[0m\u001b[0m\n\u001b[1;32m      5\u001b[0m \u001b[0;34m\u001b[0m\u001b[0m\n",
            "\u001b[0;31mAssertionError\u001b[0m: "
          ]
        }
      ]
    },
    {
      "cell_type": "markdown",
      "metadata": {
        "id": "irJP0HW9St-8",
        "colab_type": "text"
      },
      "source": [
        "Using Assertion with Error:"
      ]
    },
    {
      "cell_type": "code",
      "metadata": {
        "id": "rDh6itqKS0Zi",
        "colab_type": "code",
        "outputId": "c8f67573-696c-4e9d-97fe-c0d687144296",
        "colab": {
          "base_uri": "https://localhost:8080/",
          "height": 333
        }
      },
      "source": [
        "def div(p,q):\n",
        "  assert q !=0, \"You cannot divide the number by zero\"\n",
        "  return p/q\n",
        "\n",
        "\n",
        "print(div(10,5))\n",
        "print(div(10,0))"
      ],
      "execution_count": 0,
      "outputs": [
        {
          "output_type": "stream",
          "text": [
            "2.0\n"
          ],
          "name": "stdout"
        },
        {
          "output_type": "error",
          "ename": "AssertionError",
          "evalue": "ignored",
          "traceback": [
            "\u001b[0;31m---------------------------------------------------------------------------\u001b[0m",
            "\u001b[0;31mAssertionError\u001b[0m                            Traceback (most recent call last)",
            "\u001b[0;32m<ipython-input-12-604548813569>\u001b[0m in \u001b[0;36m<module>\u001b[0;34m()\u001b[0m\n\u001b[1;32m      5\u001b[0m \u001b[0;34m\u001b[0m\u001b[0m\n\u001b[1;32m      6\u001b[0m \u001b[0mprint\u001b[0m\u001b[0;34m(\u001b[0m\u001b[0mdiv\u001b[0m\u001b[0;34m(\u001b[0m\u001b[0;36m10\u001b[0m\u001b[0;34m,\u001b[0m\u001b[0;36m5\u001b[0m\u001b[0;34m)\u001b[0m\u001b[0;34m)\u001b[0m\u001b[0;34m\u001b[0m\u001b[0;34m\u001b[0m\u001b[0m\n\u001b[0;32m----> 7\u001b[0;31m \u001b[0mprint\u001b[0m\u001b[0;34m(\u001b[0m\u001b[0mdiv\u001b[0m\u001b[0;34m(\u001b[0m\u001b[0;36m10\u001b[0m\u001b[0;34m,\u001b[0m\u001b[0;36m0\u001b[0m\u001b[0;34m)\u001b[0m\u001b[0;34m)\u001b[0m\u001b[0;34m\u001b[0m\u001b[0;34m\u001b[0m\u001b[0m\n\u001b[0m",
            "\u001b[0;32m<ipython-input-12-604548813569>\u001b[0m in \u001b[0;36mdiv\u001b[0;34m(p, q)\u001b[0m\n\u001b[1;32m      1\u001b[0m \u001b[0;32mdef\u001b[0m \u001b[0mdiv\u001b[0m\u001b[0;34m(\u001b[0m\u001b[0mp\u001b[0m\u001b[0;34m,\u001b[0m\u001b[0mq\u001b[0m\u001b[0;34m)\u001b[0m\u001b[0;34m:\u001b[0m\u001b[0;34m\u001b[0m\u001b[0;34m\u001b[0m\u001b[0m\n\u001b[0;32m----> 2\u001b[0;31m   \u001b[0;32massert\u001b[0m \u001b[0mq\u001b[0m \u001b[0;34m!=\u001b[0m\u001b[0;36m0\u001b[0m\u001b[0;34m,\u001b[0m \u001b[0;34m\"You cannot divide the number by zero\"\u001b[0m\u001b[0;34m\u001b[0m\u001b[0;34m\u001b[0m\u001b[0m\n\u001b[0m\u001b[1;32m      3\u001b[0m   \u001b[0;32mreturn\u001b[0m \u001b[0mp\u001b[0m\u001b[0;34m/\u001b[0m\u001b[0mq\u001b[0m\u001b[0;34m\u001b[0m\u001b[0;34m\u001b[0m\u001b[0m\n\u001b[1;32m      4\u001b[0m \u001b[0;34m\u001b[0m\u001b[0m\n\u001b[1;32m      5\u001b[0m \u001b[0;34m\u001b[0m\u001b[0m\n",
            "\u001b[0;31mAssertionError\u001b[0m: You cannot divide the number by zero"
          ]
        }
      ]
    },
    {
      "cell_type": "markdown",
      "metadata": {
        "id": "vfGOqr-2TSYu",
        "colab_type": "text"
      },
      "source": [
        "Handle assertion error programmatically:"
      ]
    },
    {
      "cell_type": "code",
      "metadata": {
        "id": "4E-n0GoYTWan",
        "colab_type": "code",
        "outputId": "47f051ef-d0b6-4bb6-f303-59163e5ce544",
        "colab": {
          "base_uri": "https://localhost:8080/",
          "height": 34
        }
      },
      "source": [
        "def div(p,q):\n",
        "  try:\n",
        "    assert q !=0\n",
        "    return p/q\n",
        "  except:\n",
        "    print(\"Division by zero. Please try again!\")\n",
        "\n",
        "div(2,0)"
      ],
      "execution_count": 0,
      "outputs": [
        {
          "output_type": "stream",
          "text": [
            "Division by zero. Please try again!\n"
          ],
          "name": "stdout"
        }
      ]
    },
    {
      "cell_type": "markdown",
      "metadata": {
        "id": "fjMTg859Tqz9",
        "colab_type": "text"
      },
      "source": [
        "Assert can be used as a debugging tool in python. "
      ]
    },
    {
      "cell_type": "markdown",
      "metadata": {
        "id": "hyC-cd-pURDx",
        "colab_type": "text"
      },
      "source": [
        "We have to provide discount for certain product which will have in dictionary(product - cost). We have to apply fixed discount on the product.\n",
        "1. After discount the product should not be zero. \n",
        "2. discounted price of the product should not be more than actual cost.\n",
        "\n",
        "- create dictionary\n",
        "- iterate \n",
        "- fetch price\n",
        "- apply discount\n",
        "- use assert"
      ]
    },
    {
      "cell_type": "code",
      "metadata": {
        "id": "x0FtOHs9U47t",
        "colab_type": "code",
        "outputId": "f5e12bf2-eb59-4e50-cfd2-fdf3a5665f8a",
        "colab": {
          "base_uri": "https://localhost:8080/",
          "height": 170
        }
      },
      "source": [
        "def checkDiscountPrice(discountedPrice):\n",
        "  try:\n",
        "    assert discountedPrice > 0\n",
        "    return discountedPrice\n",
        "  except:\n",
        "    print(\"Discounted Price cannot be less than or equal to zero\")\n",
        "\n",
        "\n",
        "products ={'shoe': 2000,'T-shirt':500,'bag':1000,'Shirt':0}\n",
        "for key, value in products.items():\n",
        "  print(key ,\" \", value)\n",
        "  # applying discount\n",
        "  discountedPrice = (value - (0.2 * value))\n",
        "  print(\"Discounted price:\", checkDiscountPrice(discountedPrice))\n",
        "\n",
        "\n",
        "\n"
      ],
      "execution_count": 0,
      "outputs": [
        {
          "output_type": "stream",
          "text": [
            "shoe   2000\n",
            "Discounted price: 1600.0\n",
            "T-shirt   500\n",
            "Discounted price: 400.0\n",
            "bag   1000\n",
            "Discounted price: 800.0\n",
            "Shirt   0\n",
            "Discounted Price cannot be less than or equal to zero\n",
            "Discounted price: None\n"
          ],
          "name": "stdout"
        }
      ]
    },
    {
      "cell_type": "markdown",
      "metadata": {
        "id": "HpPQx-b-XjMD",
        "colab_type": "text"
      },
      "source": [
        "List operation On String:\n",
        "\n",
        "We need to store the string into a list.\n",
        "\n",
        "- Declare a string variable\n",
        "- each letter of the string should be added to the list"
      ]
    },
    {
      "cell_type": "code",
      "metadata": {
        "id": "iF9nmewTWd2c",
        "colab_type": "code",
        "outputId": "31e0dc69-a43b-481e-8679-58084a5fa7b7",
        "colab": {
          "base_uri": "https://localhost:8080/",
          "height": 34
        }
      },
      "source": [
        "myString = \"Welcome to Xoriant\"\n",
        "mylist=[]\n",
        "\n",
        "for letter in myString:\n",
        "  #print(letter)\n",
        "  mylist.append(letter);\n",
        "\n",
        "print(mylist)\n",
        "\n",
        "\n"
      ],
      "execution_count": 0,
      "outputs": [
        {
          "output_type": "stream",
          "text": [
            "['W', 'e', 'l', 'c', 'o', 'm', 'e', ' ', 't', 'o', ' ', 'X', 'o', 'r', 'i', 'a', 'n', 't']\n"
          ],
          "name": "stdout"
        }
      ]
    },
    {
      "cell_type": "markdown",
      "metadata": {
        "id": "kImzHciPY8Us",
        "colab_type": "text"
      },
      "source": [
        "List Comprehension -> list operation with minimum code"
      ]
    },
    {
      "cell_type": "code",
      "metadata": {
        "id": "wopLy9ObY_JA",
        "colab_type": "code",
        "outputId": "2d970a1c-630b-4791-fd27-fc2f1f76351b",
        "colab": {
          "base_uri": "https://localhost:8080/",
          "height": 34
        }
      },
      "source": [
        "letters = [letters for letters in 'human']\n",
        "print(letters)"
      ],
      "execution_count": 0,
      "outputs": [
        {
          "output_type": "stream",
          "text": [
            "['h', 'u', 'm', 'a', 'n']\n"
          ],
          "name": "stdout"
        }
      ]
    },
    {
      "cell_type": "markdown",
      "metadata": {
        "id": "YzDFNNkSZ8Zm",
        "colab_type": "text"
      },
      "source": [
        "Other examples of List comprehension:"
      ]
    },
    {
      "cell_type": "code",
      "metadata": {
        "id": "WHMtpTJsaX5D",
        "colab_type": "code",
        "outputId": "f054d1e5-0762-46a6-d59f-67b4daf4cdb9",
        "colab": {
          "base_uri": "https://localhost:8080/",
          "height": 34
        }
      },
      "source": [
        "number_list = [x for x in range(20)]\n",
        "print(number_list)"
      ],
      "execution_count": 0,
      "outputs": [
        {
          "output_type": "stream",
          "text": [
            "[0, 1, 2, 3, 4, 5, 6, 7, 8, 9, 10, 11, 12, 13, 14, 15, 16, 17, 18, 19]\n"
          ],
          "name": "stdout"
        }
      ]
    },
    {
      "cell_type": "code",
      "metadata": {
        "id": "w0_tBb7PagTz",
        "colab_type": "code",
        "outputId": "d16ba423-e886-4f7b-b129-12f9deea1e4d",
        "colab": {
          "base_uri": "https://localhost:8080/",
          "height": 34
        }
      },
      "source": [
        "number_list = [x for x in range(20) if x%2 ==0]\n",
        "\n",
        "print(number_list)"
      ],
      "execution_count": 0,
      "outputs": [
        {
          "output_type": "stream",
          "text": [
            "[0, 2, 4, 6, 8, 10, 12, 14, 16, 18]\n"
          ],
          "name": "stdout"
        }
      ]
    },
    {
      "cell_type": "code",
      "metadata": {
        "id": "vZRcnyXzashG",
        "colab_type": "code",
        "outputId": "127e0bca-6f51-4268-b112-52d1cb437640",
        "colab": {
          "base_uri": "https://localhost:8080/",
          "height": 34
        }
      },
      "source": [
        "number_list = [y for y in range(20) if y%2 == 0 and y%5 ==0]\n",
        "print(number_list)"
      ],
      "execution_count": 0,
      "outputs": [
        {
          "output_type": "stream",
          "text": [
            "[0, 10]\n"
          ],
          "name": "stdout"
        }
      ]
    },
    {
      "cell_type": "code",
      "metadata": {
        "id": "L5KMcWgobAi3",
        "colab_type": "code",
        "outputId": "54986880-72d5-4a3f-f5fd-f6b0c33f967e",
        "colab": {
          "base_uri": "https://localhost:8080/",
          "height": 34
        }
      },
      "source": [
        "obj = [\"Even\" if i % 2 ==0 else \"Odd\" for i in range(10)]\n",
        "print(obj)"
      ],
      "execution_count": 0,
      "outputs": [
        {
          "output_type": "stream",
          "text": [
            "['Even', 'Odd', 'Even', 'Odd', 'Even', 'Odd', 'Even', 'Odd', 'Even', 'Odd']\n"
          ],
          "name": "stdout"
        }
      ]
    },
    {
      "cell_type": "code",
      "metadata": {
        "id": "JfZwBqRKbQcH",
        "colab_type": "code",
        "outputId": "46b6a370-b2b6-4d25-dc8f-013f8632bddd",
        "colab": {
          "base_uri": "https://localhost:8080/",
          "height": 34
        }
      },
      "source": [
        "obj = [str(i)+ \" is Even\" if i%2 == 0 else str(i) + \" is Odd \" for i in range(10)]\n",
        "print(obj)"
      ],
      "execution_count": 0,
      "outputs": [
        {
          "output_type": "stream",
          "text": [
            "['0 is Even', '1 is Odd ', '2 is Even', '3 is Odd ', '4 is Even', '5 is Odd ', '6 is Even', '7 is Odd ', '8 is Even', '9 is Odd ']\n"
          ],
          "name": "stdout"
        }
      ]
    },
    {
      "cell_type": "markdown",
      "metadata": {
        "id": "Rpv8qRJocLYT",
        "colab_type": "text"
      },
      "source": [
        "Assignment:\n",
        "\n",
        "Write a python program which iterates the integers from 1-50, For multiplier of 3 print \"Fizz\" instead of number and for multiple of 5 write Buzz for the numbers which are\n",
        "multipel of both threee and five print FizzBuzz"
      ]
    },
    {
      "cell_type": "code",
      "metadata": {
        "id": "WVk2sh00bzKV",
        "colab_type": "code",
        "outputId": "c25a6377-8c09-4e2e-d6c0-9d72ad294dfa",
        "colab": {
          "base_uri": "https://localhost:8080/",
          "height": 54
        }
      },
      "source": [
        "obj = [\"FizzBuzz\"  if (i%3 ==0 and i%5 ==0) else \"Fizz\" if i%3==0 else \"Buzz\" if i%5 == 0  else  i for i in range(50)]\n",
        "print(obj)"
      ],
      "execution_count": 0,
      "outputs": [
        {
          "output_type": "stream",
          "text": [
            "['FizzBuzz', 1, 2, 'Fizz', 4, 'Buzz', 'Fizz', 7, 8, 'Fizz', 'Buzz', 11, 'Fizz', 13, 14, 'FizzBuzz', 16, 17, 'Fizz', 19, 'Buzz', 'Fizz', 22, 23, 'Fizz', 'Buzz', 26, 'Fizz', 28, 29, 'FizzBuzz', 31, 32, 'Fizz', 34, 'Buzz', 'Fizz', 37, 38, 'Fizz', 'Buzz', 41, 'Fizz', 43, 44, 'FizzBuzz', 46, 47, 'Fizz', 49]\n"
          ],
          "name": "stdout"
        }
      ]
    },
    {
      "cell_type": "markdown",
      "metadata": {
        "id": "GVs7gR50enu3",
        "colab_type": "text"
      },
      "source": [
        "Finding the Square of odd numbers:"
      ]
    },
    {
      "cell_type": "code",
      "metadata": {
        "id": "wt7CfPwie1I5",
        "colab_type": "code",
        "outputId": "096c4a7a-2019-4e74-e6ca-17bd9c552e65",
        "colab": {
          "base_uri": "https://localhost:8080/",
          "height": 34
        }
      },
      "source": [
        "odd_square = [x ** 2 for x in range(1,20) if x%2 ==1]\n",
        "print(odd_square)"
      ],
      "execution_count": 0,
      "outputs": [
        {
          "output_type": "stream",
          "text": [
            "[1, 9, 25, 49, 81, 121, 169, 225, 289, 361]\n"
          ],
          "name": "stdout"
        }
      ]
    },
    {
      "cell_type": "markdown",
      "metadata": {
        "id": "pzpAvZpHfF9h",
        "colab_type": "text"
      },
      "source": [
        "Find the number from the string :\n",
        "\n",
        "\n",
        "\n",
        "```\n",
        "# This is formatted as code\n",
        "\n",
        "String = \"my phone number is : 1234567890 !!\"\n",
        "```\n",
        "\n"
      ]
    },
    {
      "cell_type": "code",
      "metadata": {
        "id": "_b43cb8BfUEe",
        "colab_type": "code",
        "outputId": "e6a6a5cb-34ef-4400-afbc-c2cd6a4ea9bf",
        "colab": {
          "base_uri": "https://localhost:8080/",
          "height": 51
        }
      },
      "source": [
        "string = \"my phone number is : 1234567890 !!\"\n",
        "count =0;\n",
        "numbers = [x for x in string if x.isdigit() ]\n",
        "print(''.join(numbers))\n",
        "print(\"valid\" if len(numbers)==10 else \"invalid\")"
      ],
      "execution_count": 0,
      "outputs": [
        {
          "output_type": "stream",
          "text": [
            "1234567890\n",
            "valid\n"
          ],
          "name": "stdout"
        }
      ]
    }
  ]
}
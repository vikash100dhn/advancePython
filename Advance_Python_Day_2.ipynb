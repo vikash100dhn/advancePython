{
  "nbformat": 4,
  "nbformat_minor": 0,
  "metadata": {
    "colab": {
      "name": "Advance Python- Day 2.ipynb",
      "provenance": [],
      "collapsed_sections": []
    },
    "kernelspec": {
      "name": "python3",
      "display_name": "Python 3"
    }
  },
  "cells": [
    {
      "cell_type": "markdown",
      "metadata": {
        "id": "hI-1O7uUHZoa",
        "colab_type": "text"
      },
      "source": [
        "#Advance Python - Day 2"
      ]
    },
    {
      "cell_type": "markdown",
      "metadata": {
        "id": "9A-V4laFHsbl",
        "colab_type": "text"
      },
      "source": [
        "Iterators:\n",
        "- Python iterator objects must implement two special methods, __iter() and _next_()\n",
        "- An object is called iterable if we can get an iterator from it\n",
        "- Most build in containers in python like list, tuple, strings, etc.. are iterables"
      ]
    },
    {
      "cell_type": "code",
      "metadata": {
        "id": "U0Qnl6t_HOMr",
        "colab_type": "code",
        "outputId": "ad4fc151-1540-4177-a767-d7f38a19eaab",
        "colab": {
          "base_uri": "https://localhost:8080/",
          "height": 102
        }
      },
      "source": [
        "my_list =[4, 7, 0, 3]\n",
        "#get an iterator using iter()\n",
        "my_iter = iter(my_list)\n",
        "## iterate through it using next()\n",
        "print(next(my_iter))\n",
        "print(next(my_iter))\n",
        "\n",
        "print(my_iter.__next__())\n",
        "print(my_iter.__next__())\n",
        "## This will raise error, no items left\n",
        "next(my_iter)"
      ],
      "execution_count": 0,
      "outputs": [
        {
          "output_type": "stream",
          "text": [
            "4\n",
            "7\n",
            "0\n",
            "3\n"
          ],
          "name": "stdout"
        },
        {
          "output_type": "execute_result",
          "data": {
            "text/plain": [
              "5"
            ]
          },
          "metadata": {
            "tags": []
          },
          "execution_count": 2
        }
      ]
    },
    {
      "cell_type": "markdown",
      "metadata": {
        "id": "2nj931hSNFWv",
        "colab_type": "text"
      },
      "source": [
        "Creating class in python:\n",
        "\n"
      ]
    },
    {
      "cell_type": "code",
      "metadata": {
        "id": "HCDeDBd4NMuS",
        "colab_type": "code",
        "outputId": "1a64fda7-8584-42c8-be8b-04abcc4e79c2",
        "colab": {
          "base_uri": "https://localhost:8080/",
          "height": 85
        }
      },
      "source": [
        "class Employee:\n",
        "  def __init__(self, emp_id, emp_name): #self is the current object\n",
        "    print(\"Constructor\")\n",
        "    self.emp_id = emp_id\n",
        "    self.emp_name = emp_name\n",
        "  def print_info(self):\n",
        "    print(\"Employee Info\");\n",
        "\n",
        "\n",
        "employee = Employee(102, \"vikash\");\n",
        "print(employee.emp_id)\n",
        "print(employee.emp_name)\n",
        "employee.print_info();\n",
        "\n"
      ],
      "execution_count": 0,
      "outputs": [
        {
          "output_type": "stream",
          "text": [
            "Constructor\n",
            "102\n",
            "viskash\n",
            "Employee Info\n"
          ],
          "name": "stdout"
        }
      ]
    },
    {
      "cell_type": "markdown",
      "metadata": {
        "id": "RhaYx1XdPqzd",
        "colab_type": "text"
      },
      "source": [
        "#Print Power of 2"
      ]
    },
    {
      "cell_type": "code",
      "metadata": {
        "id": "FmnwDYeNPtRS",
        "colab_type": "code",
        "outputId": "d87d4891-c81b-45f9-fb70-489eb0c8c59f",
        "colab": {
          "base_uri": "https://localhost:8080/",
          "height": 119
        }
      },
      "source": [
        "class PowTwo:\n",
        "  def __init__(self, max_val=0):\n",
        "    self.max_val = max_val\n",
        "\n",
        "  def __iter__(self):\n",
        "    self.n=0\n",
        "    return self\n",
        "  \n",
        "  def __next__(self):\n",
        "    if self.n <= self.max_val:\n",
        "      result = 2 ** self.n\n",
        "      self.n +=1\n",
        "      return result\n",
        "    else:\n",
        "      raise StopIteration\n",
        "\n",
        "for i in PowTwo(5):\n",
        "  print(i)"
      ],
      "execution_count": 0,
      "outputs": [
        {
          "output_type": "stream",
          "text": [
            "1\n",
            "2\n",
            "4\n",
            "8\n",
            "16\n",
            "32\n"
          ],
          "name": "stdout"
        }
      ]
    },
    {
      "cell_type": "markdown",
      "metadata": {
        "id": "cSBh13DDen5V",
        "colab_type": "text"
      },
      "source": [
        "#Generators\n",
        "- Simple way of creating iterators\n",
        "- A generator is a function that returns an object(iterator) which we can iterate over (one value at a time)."
      ]
    },
    {
      "cell_type": "markdown",
      "metadata": {
        "id": "csrvY66bfSVr",
        "colab_type": "text"
      },
      "source": [
        "**How to create Generator?**\n",
        "- If a function contains at least one yield statement( it may contain other yield or return statements), it become a generator function.\n",
        "- Both yield and return will return some value from a function"
      ]
    },
    {
      "cell_type": "code",
      "metadata": {
        "id": "KOmz0QBFe5-k",
        "colab_type": "code",
        "outputId": "e5f9ab65-fe53-4822-9661-f79ff8b3f131",
        "colab": {
          "base_uri": "https://localhost:8080/",
          "height": 119
        }
      },
      "source": [
        "def my_gen():\n",
        "  n =1\n",
        "  print(' This is printed first: ', n)\n",
        "  yield n\n",
        "  \n",
        "  n+=1\n",
        "  print(' This is printed second', n)\n",
        "  yield n\n",
        "\n",
        "  n +=1\n",
        "  print('This is printed last')\n",
        "  yield n\n",
        "\n",
        "a = my_gen()\n",
        "next(a)\n",
        "print(\"this is from where called\")\n",
        "next(a)\n",
        "print(\"This is again from where it is called\")\n",
        "next(a)"
      ],
      "execution_count": 0,
      "outputs": [
        {
          "output_type": "stream",
          "text": [
            " This is printed first:  1\n",
            "this is from where called\n",
            " This is printed second 2\n",
            "This is again from where it is called\n",
            "This is printed last\n"
          ],
          "name": "stdout"
        },
        {
          "output_type": "execute_result",
          "data": {
            "text/plain": [
              "3"
            ]
          },
          "metadata": {
            "tags": []
          },
          "execution_count": 15
        }
      ]
    },
    {
      "cell_type": "markdown",
      "metadata": {
        "id": "d-a5F01iinzw",
        "colab_type": "text"
      },
      "source": [
        "Generator for generating even numbers"
      ]
    },
    {
      "cell_type": "code",
      "metadata": {
        "id": "gISz1QgoikkR",
        "colab_type": "code",
        "outputId": "11bfb20c-1087-4f13-b2bb-f677c1c7b477",
        "colab": {
          "base_uri": "https://localhost:8080/",
          "height": 102
        }
      },
      "source": [
        "def all_even():\n",
        "  n =0\n",
        "  while n < 10:\n",
        "    yield n\n",
        "    n +=2\n",
        "for a in all_even():\n",
        "  print(a)"
      ],
      "execution_count": 0,
      "outputs": [
        {
          "output_type": "stream",
          "text": [
            "0\n",
            "2\n",
            "4\n",
            "6\n",
            "8\n"
          ],
          "name": "stdout"
        }
      ]
    },
    {
      "cell_type": "markdown",
      "metadata": {
        "id": "qlscx57TkioY",
        "colab_type": "text"
      },
      "source": [
        "#Reverse a string in Python using generator:"
      ]
    },
    {
      "cell_type": "code",
      "metadata": {
        "id": "w-7LqwaHknoB",
        "colab_type": "code",
        "outputId": "da6982e8-9ae8-403d-d141-39bf653e2c41",
        "colab": {
          "base_uri": "https://localhost:8080/",
          "height": 51
        }
      },
      "source": [
        "def rev_str(my_str):\n",
        "  length = len(my_str)\n",
        "  for i in range(length -1, -1, -1):\n",
        "    yield my_str[i]\n",
        "\n",
        "aString = \"hello World\"\n",
        "print(aString)\n",
        "for char in rev_str(aString):\n",
        "  print(char, end=\"\")"
      ],
      "execution_count": 0,
      "outputs": [
        {
          "output_type": "stream",
          "text": [
            "hello World\n",
            "dlroW olleh"
          ],
          "name": "stdout"
        }
      ]
    },
    {
      "cell_type": "markdown",
      "metadata": {
        "id": "ArYAlrSgl_xR",
        "colab_type": "text"
      },
      "source": [
        "#Closures\n",
        "- It is related to function and allows us to create decorators\n"
      ]
    },
    {
      "cell_type": "markdown",
      "metadata": {
        "id": "1VTCSDGfmWod",
        "colab_type": "text"
      },
      "source": [
        "Nested Function:\n"
      ]
    },
    {
      "cell_type": "code",
      "metadata": {
        "id": "WzDO-muemYZa",
        "colab_type": "code",
        "outputId": "1ac24d8c-6ba3-4c7c-fd1e-60e0ac3e2827",
        "colab": {
          "base_uri": "https://localhost:8080/",
          "height": 34
        }
      },
      "source": [
        "def print_msg(msg):\n",
        "  name = \"John\"\n",
        "\n",
        "  def printer():\n",
        "    print(msg+\" \"+name)\n",
        "  \n",
        "  printer()\n",
        "\n",
        "print_msg(\"Hello\")"
      ],
      "execution_count": 0,
      "outputs": [
        {
          "output_type": "stream",
          "text": [
            "Hello John\n"
          ],
          "name": "stdout"
        }
      ]
    },
    {
      "cell_type": "code",
      "metadata": {
        "id": "nZJQ_pWcn550",
        "colab_type": "code",
        "outputId": "6201f111-110c-47a0-980c-6fd6884b1eef",
        "colab": {
          "base_uri": "https://localhost:8080/",
          "height": 51
        }
      },
      "source": [
        "def outer_function():\n",
        "  a =5\n",
        "\n",
        "  def inner_function():\n",
        "    nonlocal a\n",
        "    a =6\n",
        "    print(\"Inner function: \", a)\n",
        "  inner_function()\n",
        "  print(\"Outer function: \", a)\n",
        "\n",
        "\n",
        "outer_function()"
      ],
      "execution_count": 0,
      "outputs": [
        {
          "output_type": "stream",
          "text": [
            "Inner function:  6\n",
            "Outer function:  6\n"
          ],
          "name": "stdout"
        }
      ]
    },
    {
      "cell_type": "markdown",
      "metadata": {
        "id": "BxNR9ODFslQ3",
        "colab_type": "text"
      },
      "source": [
        "#Closure example:\n"
      ]
    },
    {
      "cell_type": "code",
      "metadata": {
        "id": "Fks66xnErSPj",
        "colab_type": "code",
        "outputId": "92c30894-79c5-415e-8d5e-55f9c8a44ed3",
        "colab": {
          "base_uri": "https://localhost:8080/",
          "height": 51
        }
      },
      "source": [
        "def outer_function():\n",
        "  print(\"This is outer function\")\n",
        "\n",
        "  def inner_function():\n",
        "    print(\"This is inner function\")\n",
        "\n",
        "  return inner_function\n",
        "\n",
        "out = outer_function()\n",
        "out()"
      ],
      "execution_count": 0,
      "outputs": [
        {
          "output_type": "stream",
          "text": [
            "This is outer function\n",
            "This is inner function\n"
          ],
          "name": "stdout"
        }
      ]
    },
    {
      "cell_type": "markdown",
      "metadata": {
        "id": "HRCSs--ZexGW",
        "colab_type": "text"
      },
      "source": [
        "Closures work even if we delete the outer function:"
      ]
    },
    {
      "cell_type": "code",
      "metadata": {
        "id": "5uPlZXrYe3W3",
        "colab_type": "code",
        "outputId": "944fed8b-9da3-4076-e994-23f5d1291c1d",
        "colab": {
          "base_uri": "https://localhost:8080/",
          "height": 54
        }
      },
      "source": [
        "def outer_function(data):\n",
        "    def inner_function():\n",
        "        print(data)\n",
        "\n",
        "    return inner_function\n",
        "\n",
        "got = outer_function(10)\n",
        "got()\n",
        "del outer_function\n",
        "got()\n"
      ],
      "execution_count": 0,
      "outputs": [
        {
          "output_type": "stream",
          "text": [
            "10\n",
            "10\n"
          ],
          "name": "stdout"
        }
      ]
    }
  ]
}